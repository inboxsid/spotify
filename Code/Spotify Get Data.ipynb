{
 "cells": [
  {
   "cell_type": "code",
   "execution_count": 1,
   "metadata": {
    "collapsed": true
   },
   "outputs": [],
   "source": [
    "import requests\n",
    "import pprint\n",
    "import os\n",
    "\n",
    "import spotipy\n",
    "import spotipy.util as util\n",
    "from spotipy.oauth2 import SpotifyClientCredentials\n",
    "\n",
    "import pandas as pd\n",
    "import numpy as np\n",
    "\n",
    "pp = pprint.PrettyPrinter()"
   ]
  },
  {
   "cell_type": "code",
   "execution_count": 2,
   "metadata": {
    "collapsed": true
   },
   "outputs": [],
   "source": [
    "cid = os.environ.get('SPOTIPY_CLIENT_ID')\n",
    "secret = os.environ.get('SPOTIPY_CLIENT_SECRET')\n",
    "username = \"\"\n",
    "client_credentials_manager = SpotifyClientCredentials(client_id=cid, client_secret=secret) \n",
    "sp = spotipy.Spotify(client_credentials_manager=client_credentials_manager)\n",
    "scope = 'user-library-read playlist-read-private'\n",
    "token = util.prompt_for_user_token(username, scope)\n",
    "if token:\n",
    "    sp = spotipy.Spotify(auth=token)\n",
    "else:\n",
    "    print(\"Can't get token for\", username)"
   ]
  },
  {
   "cell_type": "markdown",
   "metadata": {},
   "source": [
    "# Get favourite songs or playlist songs"
   ]
  },
  {
   "cell_type": "code",
   "execution_count": 4,
   "metadata": {
    "collapsed": true
   },
   "outputs": [],
   "source": [
    "def get_features_from_playlist(user='', playlist_id=''):\n",
    "    df_result = pd.DataFrame()\n",
    "    track_list = ''\n",
    "    uploader_list = []\n",
    "    added_ts_list = []\n",
    "    artist_list = []\n",
    "    title_list = []\n",
    "    \n",
    "    all_songs = True #As long as there is tracks not fetched from API, continue looping\n",
    "    offset_index = 0\n",
    "    \n",
    "    if playlist_id != '' and user == '':\n",
    "        print(\"Enter username for playlist\")\n",
    "        return\n",
    "    \n",
    "    while all_songs:\n",
    "        if playlist_id == '':\n",
    "            #Get songs from favourites playlist\n",
    "            songs = sp.current_user_saved_tracks(limit=20, offset=offset_index)\n",
    "            offset_index += 20\n",
    "            if len(songs['items']) != 20:\n",
    "                all_songs = False\n",
    "        else:\n",
    "            #Get songs from playlist of user\n",
    "            lim = 20\n",
    "            songs = sp.user_playlist_tracks(user, playlist_id=playlist_id, limit=lim, offset=offset_index)\n",
    "            offset_index += lim\n",
    "            if len(songs['items']) < lim:\n",
    "                all_songs = False  \n",
    "                   \n",
    "        for song in songs['items']:\n",
    "            #join track ids to a single string as an input parameter for audio_features function\n",
    "            track_list += song['track']['id'] +','\n",
    "            \n",
    "            #get the time when the song was added\n",
    "            added_ts_list.append(song['added_at'])\n",
    "            \n",
    "            #get the title of the song\n",
    "            title_list.append(song['track']['name'])\n",
    "            \n",
    "            #get all the artists in the song\n",
    "            artists = song['track']['artists']\n",
    "            artists_name = ''\n",
    "            for artist in artists:\n",
    "                artists_name += artist['name']  + ','\n",
    "            artist_list.append(artists_name[:-1])\n",
    "            \n",
    "            #get user who added song in the playlist, catering for collaboration playlists\n",
    "            if playlist_id != '':\n",
    "                uploader_list.append(song['added_by']['id'])\n",
    "        \n",
    "        #get the track features and append into a dataframe\n",
    "        track_features = sp.audio_features(track_list[:-1])\n",
    "        df_temp = pd.DataFrame(track_features)\n",
    "        df_result = df_result.append(df_temp)\n",
    "        track_list = ''\n",
    "        print(df_result.shape)\n",
    "    \n",
    "    \n",
    "    #add the timestamp added, title and artists of a song\n",
    "    df_result['added_at'], df_result['song_title'], df_result['artists'] = added_ts_list, title_list, artist_list\n",
    "    \n",
    "    #add upload user if in a playlist\n",
    "    if playlist_id != '':\n",
    "        df_result['uploaded_by'] = uploader_list\n",
    "                   \n",
    "    return df_result"
   ]
  },
  {
   "cell_type": "markdown",
   "metadata": {},
   "source": [
    "# Get audio features from playlist"
   ]
  },
  {
   "cell_type": "code",
   "execution_count": 22,
   "metadata": {},
   "outputs": [
    {
     "name": "stdout",
     "output_type": "stream",
     "text": [
      "3wXrLUcUJTrKkViXuvDgb9 Lounge\n",
      "3n2aQEZQGEnmavvfOVd3hY Chill\n",
      "1KwfC9CiQVSJyMUB6qE0Xj Dance\n",
      "37i9dQZF1DXdd3gw5QVjt9 Morning Acoustic\n",
      "0DXoY83tBvgWkd8QH49yAI Acoustic Lounge - Chillout & Easy Listening\n",
      "37i9dQZF1DWZeKCadgRdKQ Deep Focus\n",
      "37i9dQZF1DX4E3UdUs7fUx Afternoon Acoustic\n",
      "37i9dQZF1DWUNIrSzKgQbP Winter Acoustic\n"
     ]
    }
   ],
   "source": [
    "user_playlists = sp.user_playlists(user='jkwd93')\n",
    "\n",
    "for playlist in user_playlists['items']:\n",
    "    print(playlist['id'], playlist['name'])"
   ]
  },
  {
   "cell_type": "code",
   "execution_count": null,
   "metadata": {
    "collapsed": true
   },
   "outputs": [],
   "source": [
    "df_playlist = get_features_from_playlist(user='jkwd93', playlist_id='3n2aQEZQGEnmavvfOVd3hY')"
   ]
  },
  {
   "cell_type": "code",
   "execution_count": null,
   "metadata": {
    "collapsed": true
   },
   "outputs": [],
   "source": [
    "df_playlist.shape"
   ]
  },
  {
   "cell_type": "code",
   "execution_count": null,
   "metadata": {
    "collapsed": true
   },
   "outputs": [],
   "source": [
    "df_playlist.head()"
   ]
  },
  {
   "cell_type": "code",
   "execution_count": null,
   "metadata": {
    "collapsed": true
   },
   "outputs": [],
   "source": [
    "df_playlist.to_hdf('chill_playlist.h5',key='df', mode='w')"
   ]
  },
  {
   "cell_type": "markdown",
   "metadata": {},
   "source": [
    "# Get audio features from saved tracks"
   ]
  },
  {
   "cell_type": "code",
   "execution_count": null,
   "metadata": {
    "collapsed": true
   },
   "outputs": [],
   "source": [
    "df_saved_tracks = get_features_from_playlist()"
   ]
  },
  {
   "cell_type": "code",
   "execution_count": null,
   "metadata": {
    "collapsed": true
   },
   "outputs": [],
   "source": [
    "df_saved_tracks.shape"
   ]
  },
  {
   "cell_type": "code",
   "execution_count": null,
   "metadata": {
    "collapsed": true
   },
   "outputs": [],
   "source": [
    "df_saved_tracks.head()"
   ]
  },
  {
   "cell_type": "code",
   "execution_count": null,
   "metadata": {
    "collapsed": true
   },
   "outputs": [],
   "source": [
    "df_saved_tracks.to_hdf('saved_tracks.h5',key='df', mode='w')"
   ]
  },
  {
   "cell_type": "markdown",
   "metadata": {},
   "source": [
    "# Get audio features from discover weekly"
   ]
  },
  {
   "cell_type": "code",
   "execution_count": 5,
   "metadata": {},
   "outputs": [
    {
     "name": "stdout",
     "output_type": "stream",
     "text": [
      "(20, 18)\n",
      "(30, 18)\n"
     ]
    }
   ],
   "source": [
    "tastebreak = '37i9dQZF1EjaG34DgvTcv9'\n",
    "discover_weekly = '37i9dQZEVXcEdB6HFaFbVC'\n",
    "\n",
    "playlist = discover_weekly\n",
    "\n",
    "df_playlist = get_features_from_playlist(user='jkwd93', playlist_id=playlist)"
   ]
  },
  {
   "cell_type": "code",
   "execution_count": 6,
   "metadata": {},
   "outputs": [
    {
     "data": {
      "text/plain": [
       "(30, 22)"
      ]
     },
     "execution_count": 6,
     "metadata": {},
     "output_type": "execute_result"
    }
   ],
   "source": [
    "df_playlist.shape"
   ]
  },
  {
   "cell_type": "code",
   "execution_count": 7,
   "metadata": {},
   "outputs": [
    {
     "data": {
      "text/html": [
       "<div>\n",
       "<style>\n",
       "    .dataframe thead tr:only-child th {\n",
       "        text-align: right;\n",
       "    }\n",
       "\n",
       "    .dataframe thead th {\n",
       "        text-align: left;\n",
       "    }\n",
       "\n",
       "    .dataframe tbody tr th {\n",
       "        vertical-align: top;\n",
       "    }\n",
       "</style>\n",
       "<table border=\"1\" class=\"dataframe\">\n",
       "  <thead>\n",
       "    <tr style=\"text-align: right;\">\n",
       "      <th></th>\n",
       "      <th>acousticness</th>\n",
       "      <th>analysis_url</th>\n",
       "      <th>danceability</th>\n",
       "      <th>duration_ms</th>\n",
       "      <th>energy</th>\n",
       "      <th>id</th>\n",
       "      <th>instrumentalness</th>\n",
       "      <th>key</th>\n",
       "      <th>liveness</th>\n",
       "      <th>loudness</th>\n",
       "      <th>...</th>\n",
       "      <th>tempo</th>\n",
       "      <th>time_signature</th>\n",
       "      <th>track_href</th>\n",
       "      <th>type</th>\n",
       "      <th>uri</th>\n",
       "      <th>valence</th>\n",
       "      <th>added_at</th>\n",
       "      <th>song_title</th>\n",
       "      <th>artists</th>\n",
       "      <th>uploaded_by</th>\n",
       "    </tr>\n",
       "  </thead>\n",
       "  <tbody>\n",
       "    <tr>\n",
       "      <th>0</th>\n",
       "      <td>0.83100</td>\n",
       "      <td>https://api.spotify.com/v1/audio-analysis/6YRL...</td>\n",
       "      <td>0.541</td>\n",
       "      <td>175053</td>\n",
       "      <td>0.213</td>\n",
       "      <td>6YRLnxlOIENOGlIFxJt000</td>\n",
       "      <td>0.000001</td>\n",
       "      <td>9</td>\n",
       "      <td>0.117</td>\n",
       "      <td>-10.291</td>\n",
       "      <td>...</td>\n",
       "      <td>60.779</td>\n",
       "      <td>4</td>\n",
       "      <td>https://api.spotify.com/v1/tracks/6YRLnxlOIENO...</td>\n",
       "      <td>audio_features</td>\n",
       "      <td>spotify:track:6YRLnxlOIENOGlIFxJt000</td>\n",
       "      <td>0.390</td>\n",
       "      <td>2019-01-13T16:00:00Z</td>\n",
       "      <td>Smile (Prod. WOOGIE)</td>\n",
       "      <td>Phe Reds</td>\n",
       "      <td></td>\n",
       "    </tr>\n",
       "    <tr>\n",
       "      <th>1</th>\n",
       "      <td>0.56900</td>\n",
       "      <td>https://api.spotify.com/v1/audio-analysis/0Zyt...</td>\n",
       "      <td>0.788</td>\n",
       "      <td>229530</td>\n",
       "      <td>0.269</td>\n",
       "      <td>0ZytmhLxxgXIppFb3eiPQm</td>\n",
       "      <td>0.000017</td>\n",
       "      <td>8</td>\n",
       "      <td>0.108</td>\n",
       "      <td>-11.649</td>\n",
       "      <td>...</td>\n",
       "      <td>104.875</td>\n",
       "      <td>4</td>\n",
       "      <td>https://api.spotify.com/v1/tracks/0ZytmhLxxgXI...</td>\n",
       "      <td>audio_features</td>\n",
       "      <td>spotify:track:0ZytmhLxxgXIppFb3eiPQm</td>\n",
       "      <td>0.194</td>\n",
       "      <td>2019-01-13T16:00:00Z</td>\n",
       "      <td>Gravity</td>\n",
       "      <td>Chris McClenney</td>\n",
       "      <td></td>\n",
       "    </tr>\n",
       "    <tr>\n",
       "      <th>2</th>\n",
       "      <td>0.00762</td>\n",
       "      <td>https://api.spotify.com/v1/audio-analysis/05Li...</td>\n",
       "      <td>0.709</td>\n",
       "      <td>228942</td>\n",
       "      <td>0.637</td>\n",
       "      <td>05LiQlMRX2PlThoHWPjGae</td>\n",
       "      <td>0.004910</td>\n",
       "      <td>7</td>\n",
       "      <td>0.094</td>\n",
       "      <td>-8.728</td>\n",
       "      <td>...</td>\n",
       "      <td>106.988</td>\n",
       "      <td>4</td>\n",
       "      <td>https://api.spotify.com/v1/tracks/05LiQlMRX2Pl...</td>\n",
       "      <td>audio_features</td>\n",
       "      <td>spotify:track:05LiQlMRX2PlThoHWPjGae</td>\n",
       "      <td>0.377</td>\n",
       "      <td>2019-01-13T16:00:00Z</td>\n",
       "      <td>Simple</td>\n",
       "      <td>Joe Hertz,JONES</td>\n",
       "      <td></td>\n",
       "    </tr>\n",
       "    <tr>\n",
       "      <th>3</th>\n",
       "      <td>0.57100</td>\n",
       "      <td>https://api.spotify.com/v1/audio-analysis/2oUa...</td>\n",
       "      <td>0.482</td>\n",
       "      <td>311677</td>\n",
       "      <td>0.447</td>\n",
       "      <td>2oUallb0gAqnNnfGbM4qvT</td>\n",
       "      <td>0.000000</td>\n",
       "      <td>6</td>\n",
       "      <td>0.149</td>\n",
       "      <td>-7.114</td>\n",
       "      <td>...</td>\n",
       "      <td>119.790</td>\n",
       "      <td>4</td>\n",
       "      <td>https://api.spotify.com/v1/tracks/2oUallb0gAqn...</td>\n",
       "      <td>audio_features</td>\n",
       "      <td>spotify:track:2oUallb0gAqnNnfGbM4qvT</td>\n",
       "      <td>0.178</td>\n",
       "      <td>2019-01-13T16:00:00Z</td>\n",
       "      <td>X (Feat. Lee Hi)</td>\n",
       "      <td>Code Kunst,LEE HI</td>\n",
       "      <td></td>\n",
       "    </tr>\n",
       "    <tr>\n",
       "      <th>4</th>\n",
       "      <td>0.04020</td>\n",
       "      <td>https://api.spotify.com/v1/audio-analysis/2R7O...</td>\n",
       "      <td>0.791</td>\n",
       "      <td>132572</td>\n",
       "      <td>0.505</td>\n",
       "      <td>2R7OVKEOGpLNVrNUPoL4jy</td>\n",
       "      <td>0.129000</td>\n",
       "      <td>2</td>\n",
       "      <td>0.293</td>\n",
       "      <td>-4.693</td>\n",
       "      <td>...</td>\n",
       "      <td>87.015</td>\n",
       "      <td>4</td>\n",
       "      <td>https://api.spotify.com/v1/tracks/2R7OVKEOGpLN...</td>\n",
       "      <td>audio_features</td>\n",
       "      <td>spotify:track:2R7OVKEOGpLNVrNUPoL4jy</td>\n",
       "      <td>0.872</td>\n",
       "      <td>2019-01-13T16:00:00Z</td>\n",
       "      <td>Wantme</td>\n",
       "      <td>Cookin Soul</td>\n",
       "      <td></td>\n",
       "    </tr>\n",
       "  </tbody>\n",
       "</table>\n",
       "<p>5 rows × 22 columns</p>\n",
       "</div>"
      ],
      "text/plain": [
       "   acousticness                                       analysis_url  \\\n",
       "0       0.83100  https://api.spotify.com/v1/audio-analysis/6YRL...   \n",
       "1       0.56900  https://api.spotify.com/v1/audio-analysis/0Zyt...   \n",
       "2       0.00762  https://api.spotify.com/v1/audio-analysis/05Li...   \n",
       "3       0.57100  https://api.spotify.com/v1/audio-analysis/2oUa...   \n",
       "4       0.04020  https://api.spotify.com/v1/audio-analysis/2R7O...   \n",
       "\n",
       "   danceability  duration_ms  energy                      id  \\\n",
       "0         0.541       175053   0.213  6YRLnxlOIENOGlIFxJt000   \n",
       "1         0.788       229530   0.269  0ZytmhLxxgXIppFb3eiPQm   \n",
       "2         0.709       228942   0.637  05LiQlMRX2PlThoHWPjGae   \n",
       "3         0.482       311677   0.447  2oUallb0gAqnNnfGbM4qvT   \n",
       "4         0.791       132572   0.505  2R7OVKEOGpLNVrNUPoL4jy   \n",
       "\n",
       "   instrumentalness  key  liveness  loudness     ...        tempo  \\\n",
       "0          0.000001    9     0.117   -10.291     ...       60.779   \n",
       "1          0.000017    8     0.108   -11.649     ...      104.875   \n",
       "2          0.004910    7     0.094    -8.728     ...      106.988   \n",
       "3          0.000000    6     0.149    -7.114     ...      119.790   \n",
       "4          0.129000    2     0.293    -4.693     ...       87.015   \n",
       "\n",
       "   time_signature                                         track_href  \\\n",
       "0               4  https://api.spotify.com/v1/tracks/6YRLnxlOIENO...   \n",
       "1               4  https://api.spotify.com/v1/tracks/0ZytmhLxxgXI...   \n",
       "2               4  https://api.spotify.com/v1/tracks/05LiQlMRX2Pl...   \n",
       "3               4  https://api.spotify.com/v1/tracks/2oUallb0gAqn...   \n",
       "4               4  https://api.spotify.com/v1/tracks/2R7OVKEOGpLN...   \n",
       "\n",
       "             type                                   uri valence  \\\n",
       "0  audio_features  spotify:track:6YRLnxlOIENOGlIFxJt000   0.390   \n",
       "1  audio_features  spotify:track:0ZytmhLxxgXIppFb3eiPQm   0.194   \n",
       "2  audio_features  spotify:track:05LiQlMRX2PlThoHWPjGae   0.377   \n",
       "3  audio_features  spotify:track:2oUallb0gAqnNnfGbM4qvT   0.178   \n",
       "4  audio_features  spotify:track:2R7OVKEOGpLNVrNUPoL4jy   0.872   \n",
       "\n",
       "               added_at            song_title            artists uploaded_by  \n",
       "0  2019-01-13T16:00:00Z  Smile (Prod. WOOGIE)           Phe Reds              \n",
       "1  2019-01-13T16:00:00Z               Gravity    Chris McClenney              \n",
       "2  2019-01-13T16:00:00Z                Simple    Joe Hertz,JONES              \n",
       "3  2019-01-13T16:00:00Z      X (Feat. Lee Hi)  Code Kunst,LEE HI              \n",
       "4  2019-01-13T16:00:00Z                Wantme        Cookin Soul              \n",
       "\n",
       "[5 rows x 22 columns]"
      ]
     },
     "execution_count": 7,
     "metadata": {},
     "output_type": "execute_result"
    }
   ],
   "source": [
    "df_playlist.head()"
   ]
  },
  {
   "cell_type": "code",
   "execution_count": 8,
   "metadata": {
    "collapsed": true
   },
   "outputs": [],
   "source": [
    "# df_playlist.to_hdf('discover_weekly_19012019.h5',key='df', mode='w')"
   ]
  },
  {
   "cell_type": "code",
   "execution_count": 28,
   "metadata": {},
   "outputs": [
    {
     "data": {
      "text/plain": [
       "'discover_weekly_19012019.h5'"
      ]
     },
     "execution_count": 28,
     "metadata": {},
     "output_type": "execute_result"
    }
   ],
   "source": [
    "import datetime\n",
    "\n",
    "now = datetime.datetime.now()\n",
    "ddmmyyyy = str(\"{:02d}\".format(now.day)) + str(\"{:02d}\".format(now.month)) + str(now.year)\n",
    "savepath = 'discover_weekly_' + ddmmyyyy + '.h5'\n",
    "df_playlist.to_hdf(savepath,key='df', mode='w')"
   ]
  },
  {
   "cell_type": "code",
   "execution_count": null,
   "metadata": {
    "collapsed": true
   },
   "outputs": [],
   "source": []
  }
 ],
 "metadata": {
  "kernelspec": {
   "display_name": "Python 3",
   "language": "python",
   "name": "python3"
  },
  "language_info": {
   "codemirror_mode": {
    "name": "ipython",
    "version": 3
   },
   "file_extension": ".py",
   "mimetype": "text/x-python",
   "name": "python",
   "nbconvert_exporter": "python",
   "pygments_lexer": "ipython3",
   "version": "3.6.2"
  }
 },
 "nbformat": 4,
 "nbformat_minor": 2
}
