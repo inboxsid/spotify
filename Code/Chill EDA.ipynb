{
 "cells": [
  {
   "cell_type": "markdown",
   "metadata": {},
   "source": [
    "acousticness - A confidence measure from 0.0 to 1.0 of whether the track is acoustic. 1.0 represents high confidence the track is acoustic.\n",
    "<p/>\n",
    "danceability - Danceability describes how suitable a track is for dancing based on a combination of musical elements including tempo, rhythm stability, beat strength, and overall regularity. A value of 0.0 is least danceable and 1.0 is most danceable.\n",
    "<p/>\n",
    "energy - Energy is a measure from 0.0 to 1.0 and represents a perceptual measure of intensity and activity. Typically, energetic tracks feel fast, loud, and noisy. For example, death metal has high energy, while a Bach prelude scores low on the scale. Perceptual features contributing to this attribute include dynamic range, perceived loudness, timbre, onset rate, and general entropy.\n",
    "<p/>\n",
    "instrumentalness - Predicts whether a track contains no vocals. “Ooh” and “aah” sounds are treated as instrumental in this context. Rap or spoken word tracks are clearly “vocal”. The closer the instrumentalness value is to 1.0, the greater likelihood the track contains no vocal content. Values above 0.5 are intended to represent instrumental tracks, but confidence is higher as the value approaches 1.0.\n",
    "<p/>\n",
    "liveness - Detects the presence of an audience in the recording. Higher liveness values represent an increased probability that the track was performed live. A value above 0.8 provides strong likelihood that the track is live.\n",
    "<p/>\n",
    "loudness - The overall loudness of a track in decibels (dB). Loudness values are averaged across the entire track and are useful for comparing relative loudness of tracks. Loudness is the quality of a sound that is the primary psychological correlate of physical strength (amplitude). Values typical range between -60 and 0 db.\n",
    "<p/>\n",
    "speechiness - Speechiness detects the presence of spoken words in a track. The more exclusively speech-like the recording (e.g. talk show, audio book, poetry), the closer to 1.0 the attribute value. Values above 0.66 describe tracks that are probably made entirely of spoken words. Values between 0.33 and 0.66 describe tracks that may contain both music and speech, either in sections or layered, including such cases as rap music. Values below 0.33 most likely represent music and other non-speech-like tracks.\n",
    "<p/>\n",
    "valence - A measure from 0.0 to 1.0 describing the musical positiveness conveyed by a track. Tracks with high valence sound more positive (e.g. happy, cheerful, euphoric), while tracks with low valence sound more negative (e.g. sad, depressed, angry)\n",
    "<p/>\n",
    "Mode indicates the modality (major or minor) of a track, the type of scale from which its melodic content is derived. Major is represented by 1 and minor is 0."
   ]
  },
  {
   "cell_type": "code",
   "execution_count": 1,
   "metadata": {
    "collapsed": true
   },
   "outputs": [],
   "source": [
    "import pandas as pd\n",
    "import numpy as np\n",
    "import matplotlib.pyplot as plt\n",
    "import seaborn as sns"
   ]
  },
  {
   "cell_type": "code",
   "execution_count": 2,
   "metadata": {
    "collapsed": true
   },
   "outputs": [],
   "source": [
    "df_playlist = pd.read_hdf('chill_playlist.h5', key='df')\n",
    "df_playlist.drop(['analysis_url', 'track_href', 'uri', 'type'], axis=1, inplace=True)"
   ]
  },
  {
   "cell_type": "code",
   "execution_count": 3,
   "metadata": {},
   "outputs": [
    {
     "data": {
      "text/html": [
       "<div>\n",
       "<style>\n",
       "    .dataframe thead tr:only-child th {\n",
       "        text-align: right;\n",
       "    }\n",
       "\n",
       "    .dataframe thead th {\n",
       "        text-align: left;\n",
       "    }\n",
       "\n",
       "    .dataframe tbody tr th {\n",
       "        vertical-align: top;\n",
       "    }\n",
       "</style>\n",
       "<table border=\"1\" class=\"dataframe\">\n",
       "  <thead>\n",
       "    <tr style=\"text-align: right;\">\n",
       "      <th></th>\n",
       "      <th>acousticness</th>\n",
       "      <th>danceability</th>\n",
       "      <th>duration_ms</th>\n",
       "      <th>energy</th>\n",
       "      <th>id</th>\n",
       "      <th>instrumentalness</th>\n",
       "      <th>key</th>\n",
       "      <th>liveness</th>\n",
       "      <th>loudness</th>\n",
       "      <th>mode</th>\n",
       "      <th>speechiness</th>\n",
       "      <th>tempo</th>\n",
       "      <th>time_signature</th>\n",
       "      <th>valence</th>\n",
       "      <th>added_at</th>\n",
       "      <th>song_title</th>\n",
       "      <th>artists</th>\n",
       "      <th>uploaded_by</th>\n",
       "    </tr>\n",
       "  </thead>\n",
       "  <tbody>\n",
       "    <tr>\n",
       "      <th>0</th>\n",
       "      <td>0.897</td>\n",
       "      <td>0.690</td>\n",
       "      <td>178239</td>\n",
       "      <td>0.263</td>\n",
       "      <td>69RSizl3ZhHgpsI9bVTM51</td>\n",
       "      <td>0.000108</td>\n",
       "      <td>9</td>\n",
       "      <td>0.0803</td>\n",
       "      <td>-12.004</td>\n",
       "      <td>0</td>\n",
       "      <td>0.0537</td>\n",
       "      <td>118.906</td>\n",
       "      <td>4</td>\n",
       "      <td>0.182</td>\n",
       "      <td>2018-04-22T12:08:58Z</td>\n",
       "      <td>Two Bodies - Lido Remix</td>\n",
       "      <td>Flight Facilities,Emma Louise,Lido</td>\n",
       "      <td>jkwd93</td>\n",
       "    </tr>\n",
       "    <tr>\n",
       "      <th>1</th>\n",
       "      <td>0.305</td>\n",
       "      <td>0.613</td>\n",
       "      <td>180950</td>\n",
       "      <td>0.228</td>\n",
       "      <td>4Ovsc4owid3ZTPJ3KeByvr</td>\n",
       "      <td>0.198000</td>\n",
       "      <td>11</td>\n",
       "      <td>0.0815</td>\n",
       "      <td>-14.623</td>\n",
       "      <td>0</td>\n",
       "      <td>0.1400</td>\n",
       "      <td>129.671</td>\n",
       "      <td>4</td>\n",
       "      <td>0.155</td>\n",
       "      <td>2018-04-22T12:09:31Z</td>\n",
       "      <td>Try</td>\n",
       "      <td>SRNO</td>\n",
       "      <td>jkwd93</td>\n",
       "    </tr>\n",
       "    <tr>\n",
       "      <th>2</th>\n",
       "      <td>0.516</td>\n",
       "      <td>0.867</td>\n",
       "      <td>209313</td>\n",
       "      <td>0.555</td>\n",
       "      <td>7yjpgcDoe13jjiapRyNAfu</td>\n",
       "      <td>0.000002</td>\n",
       "      <td>0</td>\n",
       "      <td>0.0897</td>\n",
       "      <td>-7.025</td>\n",
       "      <td>1</td>\n",
       "      <td>0.0948</td>\n",
       "      <td>103.961</td>\n",
       "      <td>4</td>\n",
       "      <td>0.672</td>\n",
       "      <td>2018-04-22T12:09:38Z</td>\n",
       "      <td>There For Ya</td>\n",
       "      <td>Lil Cats,Ovcoco</td>\n",
       "      <td>jkwd93</td>\n",
       "    </tr>\n",
       "    <tr>\n",
       "      <th>3</th>\n",
       "      <td>0.741</td>\n",
       "      <td>0.486</td>\n",
       "      <td>244910</td>\n",
       "      <td>0.419</td>\n",
       "      <td>21oJ1K99GBJrE2GVQGVjA0</td>\n",
       "      <td>0.000066</td>\n",
       "      <td>5</td>\n",
       "      <td>0.0960</td>\n",
       "      <td>-6.415</td>\n",
       "      <td>1</td>\n",
       "      <td>0.0563</td>\n",
       "      <td>119.065</td>\n",
       "      <td>3</td>\n",
       "      <td>0.227</td>\n",
       "      <td>2018-04-22T12:08:42Z</td>\n",
       "      <td>Frozen</td>\n",
       "      <td>Sabrina Claudio</td>\n",
       "      <td>jkwd93</td>\n",
       "    </tr>\n",
       "    <tr>\n",
       "      <th>4</th>\n",
       "      <td>0.425</td>\n",
       "      <td>0.571</td>\n",
       "      <td>184999</td>\n",
       "      <td>0.336</td>\n",
       "      <td>4sCo5PwVmXiKeItVY1is4M</td>\n",
       "      <td>0.000752</td>\n",
       "      <td>6</td>\n",
       "      <td>0.1030</td>\n",
       "      <td>-9.977</td>\n",
       "      <td>1</td>\n",
       "      <td>0.2530</td>\n",
       "      <td>81.194</td>\n",
       "      <td>4</td>\n",
       "      <td>0.612</td>\n",
       "      <td>2018-04-22T12:12:16Z</td>\n",
       "      <td>Give It All up</td>\n",
       "      <td>SRNO,Gia Koka</td>\n",
       "      <td>jkwd93</td>\n",
       "    </tr>\n",
       "  </tbody>\n",
       "</table>\n",
       "</div>"
      ],
      "text/plain": [
       "   acousticness  danceability  duration_ms  energy                      id  \\\n",
       "0         0.897         0.690       178239   0.263  69RSizl3ZhHgpsI9bVTM51   \n",
       "1         0.305         0.613       180950   0.228  4Ovsc4owid3ZTPJ3KeByvr   \n",
       "2         0.516         0.867       209313   0.555  7yjpgcDoe13jjiapRyNAfu   \n",
       "3         0.741         0.486       244910   0.419  21oJ1K99GBJrE2GVQGVjA0   \n",
       "4         0.425         0.571       184999   0.336  4sCo5PwVmXiKeItVY1is4M   \n",
       "\n",
       "   instrumentalness  key  liveness  loudness  mode  speechiness    tempo  \\\n",
       "0          0.000108    9    0.0803   -12.004     0       0.0537  118.906   \n",
       "1          0.198000   11    0.0815   -14.623     0       0.1400  129.671   \n",
       "2          0.000002    0    0.0897    -7.025     1       0.0948  103.961   \n",
       "3          0.000066    5    0.0960    -6.415     1       0.0563  119.065   \n",
       "4          0.000752    6    0.1030    -9.977     1       0.2530   81.194   \n",
       "\n",
       "   time_signature  valence              added_at               song_title  \\\n",
       "0               4    0.182  2018-04-22T12:08:58Z  Two Bodies - Lido Remix   \n",
       "1               4    0.155  2018-04-22T12:09:31Z                      Try   \n",
       "2               4    0.672  2018-04-22T12:09:38Z             There For Ya   \n",
       "3               3    0.227  2018-04-22T12:08:42Z                   Frozen   \n",
       "4               4    0.612  2018-04-22T12:12:16Z           Give It All up   \n",
       "\n",
       "                              artists uploaded_by  \n",
       "0  Flight Facilities,Emma Louise,Lido      jkwd93  \n",
       "1                                SRNO      jkwd93  \n",
       "2                     Lil Cats,Ovcoco      jkwd93  \n",
       "3                     Sabrina Claudio      jkwd93  \n",
       "4                       SRNO,Gia Koka      jkwd93  "
      ]
     },
     "execution_count": 3,
     "metadata": {},
     "output_type": "execute_result"
    }
   ],
   "source": [
    "df_playlist.head()"
   ]
  },
  {
   "cell_type": "code",
   "execution_count": 4,
   "metadata": {},
   "outputs": [
    {
     "data": {
      "text/plain": [
       "(111, 18)"
      ]
     },
     "execution_count": 4,
     "metadata": {},
     "output_type": "execute_result"
    }
   ],
   "source": [
    "df_playlist.shape"
   ]
  },
  {
   "cell_type": "code",
   "execution_count": 5,
   "metadata": {
    "collapsed": true
   },
   "outputs": [],
   "source": [
    "df_playlist_me = df_playlist[df_playlist.loc[:,'uploaded_by'] == 'jkwd93']"
   ]
  },
  {
   "cell_type": "code",
   "execution_count": 6,
   "metadata": {},
   "outputs": [
    {
     "data": {
      "text/plain": [
       "(67, 18)"
      ]
     },
     "execution_count": 6,
     "metadata": {},
     "output_type": "execute_result"
    }
   ],
   "source": [
    "df_playlist_me.shape"
   ]
  },
  {
   "cell_type": "markdown",
   "metadata": {},
   "source": [
    "# EDA"
   ]
  },
  {
   "cell_type": "code",
   "execution_count": 7,
   "metadata": {},
   "outputs": [
    {
     "data": {
      "image/png": "[encoded data removed]",
      "text/plain": [
       "<matplotlib.figure.Figure at 0x1c5501dc400>"
      ]
     },
     "metadata": {},
     "output_type": "display_data"
    }
   ],
   "source": [
    "sns.set()\n",
    "sns.countplot(data=df_playlist_me, x='mode')\n",
    "plt.title('Count of Minor and Major Key Songs')\n",
    "plt.show()"
   ]
  },
  {
   "cell_type": "code",
   "execution_count": 8,
   "metadata": {},
   "outputs": [
    {
     "data": {
      "image/png": "[encoded data removed]",
      "text/plain": [
       "<matplotlib.figure.Figure at 0x1c5507c23c8>"
      ]
     },
     "metadata": {},
     "output_type": "display_data"
    }
   ],
   "source": [
    "sns.set()\n",
    "sns.distplot(df_playlist_me['tempo'], kde=False)\n",
    "plt.title('Distribution of tempo in playlist')\n",
    "plt.show()"
   ]
  },
  {
   "cell_type": "code",
   "execution_count": 9,
   "metadata": {},
   "outputs": [
    {
     "data": {
      "image/png": "[encoded data removed]",
      "text/plain": [
       "<matplotlib.figure.Figure at 0x1c54c966a58>"
      ]
     },
     "metadata": {},
     "output_type": "display_data"
    }
   ],
   "source": [
    "sns.set()\n",
    "sns.distplot(df_playlist_me['duration_ms'], kde=False)\n",
    "plt.title('Distribution of duration of songs')\n",
    "plt.show()"
   ]
  },
  {
   "cell_type": "code",
   "execution_count": 10,
   "metadata": {
    "collapsed": true
   },
   "outputs": [],
   "source": [
    "#calculate mean of each variable\n",
    "col_lab = ['acousticness', 'danceability', 'energy', 'instrumentalness', 'liveness', 'speechiness', 'valence']\n",
    "df_radar = df_playlist_me[col_lab]\n",
    "feature_mean= list(df_radar.mean())\n",
    "\n",
    "#transpose mean of variables back to original structure\n",
    "df_radar = pd.DataFrame(feature_mean).T\n",
    "df_radar.columns = col_lab"
   ]
  },
  {
   "cell_type": "code",
   "execution_count": 11,
   "metadata": {},
   "outputs": [
    {
     "data": {
      "text/html": [
       "<div>\n",
       "<style>\n",
       "    .dataframe thead tr:only-child th {\n",
       "        text-align: right;\n",
       "    }\n",
       "\n",
       "    .dataframe thead th {\n",
       "        text-align: left;\n",
       "    }\n",
       "\n",
       "    .dataframe tbody tr th {\n",
       "        vertical-align: top;\n",
       "    }\n",
       "</style>\n",
       "<table border=\"1\" class=\"dataframe\">\n",
       "  <thead>\n",
       "    <tr style=\"text-align: right;\">\n",
       "      <th></th>\n",
       "      <th>acousticness</th>\n",
       "      <th>danceability</th>\n",
       "      <th>energy</th>\n",
       "      <th>instrumentalness</th>\n",
       "      <th>liveness</th>\n",
       "      <th>speechiness</th>\n",
       "      <th>valence</th>\n",
       "    </tr>\n",
       "  </thead>\n",
       "  <tbody>\n",
       "    <tr>\n",
       "      <th>0</th>\n",
       "      <td>0.504713</td>\n",
       "      <td>0.634746</td>\n",
       "      <td>0.426981</td>\n",
       "      <td>0.068005</td>\n",
       "      <td>0.151301</td>\n",
       "      <td>0.107131</td>\n",
       "      <td>0.3524</td>\n",
       "    </tr>\n",
       "  </tbody>\n",
       "</table>\n",
       "</div>"
      ],
      "text/plain": [
       "   acousticness  danceability    energy  instrumentalness  liveness  \\\n",
       "0      0.504713      0.634746  0.426981          0.068005  0.151301   \n",
       "\n",
       "   speechiness  valence  \n",
       "0     0.107131   0.3524  "
      ]
     },
     "execution_count": 11,
     "metadata": {},
     "output_type": "execute_result"
    }
   ],
   "source": [
    "df_radar.head()"
   ]
  },
  {
   "cell_type": "code",
   "execution_count": 12,
   "metadata": {},
   "outputs": [
    {
     "data": {
      "image/png": "[encoded data removed]",
      "text/plain": [
       "<matplotlib.figure.Figure at 0x1c550cc9828>"
      ]
     },
     "metadata": {},
     "output_type": "display_data"
    }
   ],
   "source": [
    "from math import pi\n",
    "labels=np.array(col_lab)\n",
    "features=df_radar.loc[0,labels].values\n",
    "\n",
    "angles=np.linspace(0, 2*np.pi, len(labels), endpoint=False)\n",
    "# close the plot\n",
    "features=np.concatenate((features,[features[0]]))\n",
    "angles=np.concatenate((angles,[angles[0]]))\n",
    "\n",
    "# sns.set()\n",
    "fig=plt.figure()\n",
    "ax = fig.add_subplot(111, polar=True)\n",
    "ax.plot(angles, features, 'o-', linewidth=2)\n",
    "ax.fill(angles, features, alpha=0.25)\n",
    "ax.set_thetagrids(angles * 180/np.pi, labels)\n",
    "plt.yticks([0.2,0.4,0.6,0.8], [\"0.2\",\"0.4\",\"0.6\",\"0.8\"], color=\"grey\", size=7)\n",
    "plt.ylim(0,1)\n",
    "# ax.set_title([df_radar.loc[0,\"Name\"]])\n",
    "ax.grid(True)\n",
    "plt.show()\n"
   ]
  }
 ],
 "metadata": {
  "kernelspec": {
   "display_name": "Python 3",
   "language": "python",
   "name": "python3"
  },
  "language_info": {
   "codemirror_mode": {
    "name": "ipython",
    "version": 3
   },
   "file_extension": ".py",
   "mimetype": "text/x-python",
   "name": "python",
   "nbconvert_exporter": "python",
   "pygments_lexer": "ipython3",
   "version": "3.6.2"
  }
 },
 "nbformat": 4,
 "nbformat_minor": 2
}
