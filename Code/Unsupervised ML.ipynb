{
 "cells": [
  {
   "cell_type": "code",
   "execution_count": 27,
   "metadata": {
    "collapsed": true
   },
   "outputs": [],
   "source": [
    "import pandas as pd\n",
    "import numpy as np\n",
    "import datetime\n",
    "from math import pi\n",
    "\n",
    "import matplotlib.pyplot as plt\n",
    "import seaborn as sns\n",
    "\n",
    "from sklearn.model_selection import train_test_split\n",
    "from sklearn.svm import OneClassSVM\n",
    "from sklearn.ensemble import IsolationForest\n",
    "\n",
    "from sklearn.decomposition import PCA\n",
    "from sklearn.manifold import TSNE\n",
    "\n",
    "\n",
    "\n",
    "datapath = '../Data/'"
   ]
  },
  {
   "cell_type": "code",
   "execution_count": 5,
   "metadata": {
    "collapsed": true
   },
   "outputs": [],
   "source": [
    "def load_playlist(playlist='saved_tracks.h5'):\n",
    "    '''\n",
    "    Takes in the path of the data.\n",
    "    Reads the data, convertes added_at to a datetime object and extract year and month to new column.\n",
    "    Also standardise the tempo to between 0 and 1.\n",
    "    Returns a dataframe.\n",
    "    '''\n",
    "    \n",
    "#     read data\n",
    "    df_playlist = pd.read_hdf(datapath + playlist, key='df')\n",
    "    df_playlist.drop(['analysis_url', 'track_href', 'uri', 'type'], axis=1, inplace=True)\n",
    "    \n",
    "#     convert to datetime, extrated year and month from added_at\n",
    "    df_playlist['added_at'] = df_playlist['added_at'].apply(lambda x : datetime.datetime.strptime(x,\"%Y-%m-%dT%H:%M:%SZ\"))\n",
    "    df_playlist['added_year'] = df_playlist['added_at'].apply(lambda x : x.year)\n",
    "    df_playlist['added_month'] = df_playlist['added_at'].apply(lambda x : x.month)\n",
    "    \n",
    "#     standardise tempo to be between 0 and 1\n",
    "    df_playlist['tempo_01'] = df_playlist['tempo'] / df_playlist['tempo'].max()\n",
    "    return df_playlist"
   ]
  },
  {
   "cell_type": "code",
   "execution_count": 11,
   "metadata": {},
   "outputs": [
    {
     "name": "stdout",
     "output_type": "stream",
     "text": [
      "(239, 20)\n"
     ]
    }
   ],
   "source": [
    "df_saved = load_playlist()\n",
    "df_recent = df_saved[df_saved['added_year'] >= 2017]\n",
    "print(df_recent.shape)"
   ]
  },
  {
   "cell_type": "markdown",
   "metadata": {},
   "source": [
    "# Create Train Test"
   ]
  },
  {
   "cell_type": "code",
   "execution_count": 88,
   "metadata": {},
   "outputs": [],
   "source": [
    "df_train_full , df_test_full = train_test_split(df_recent, test_size=0.2, random_state=123)"
   ]
  },
  {
   "cell_type": "code",
   "execution_count": 89,
   "metadata": {},
   "outputs": [],
   "source": [
    "features = ['acousticness', 'danceability','energy','instrumentalness','speechiness']\n",
    "df_train = df_train_full[features]\n",
    "df_test = df_test_full[features]"
   ]
  },
  {
   "cell_type": "code",
   "execution_count": 90,
   "metadata": {},
   "outputs": [],
   "source": [
    "X_train = np.array(df_train)\n",
    "X_test = np.array(df_test)"
   ]
  },
  {
   "cell_type": "code",
   "execution_count": 91,
   "metadata": {},
   "outputs": [
    {
     "data": {
      "text/plain": [
       "OneClassSVM(cache_size=200, coef0=0.0, degree=3, gamma=0.01, kernel='rbf',\n",
       "      max_iter=-1, nu=0.01, random_state=None, shrinking=True, tol=0.001,\n",
       "      verbose=False)"
      ]
     },
     "execution_count": 91,
     "metadata": {},
     "output_type": "execute_result"
    }
   ],
   "source": [
    "clf = OneClassSVM(nu=0.01, kernel=\"rbf\", gamma=0.01)\n",
    "clf.fit(X_train)"
   ]
  },
  {
   "cell_type": "code",
   "execution_count": 92,
   "metadata": {},
   "outputs": [
    {
     "name": "stderr",
     "output_type": "stream",
     "text": [
      "C:\\Users\\jkwd9\\Anaconda3\\lib\\site-packages\\ipykernel_launcher.py:1: SettingWithCopyWarning: \n",
      "A value is trying to be set on a copy of a slice from a DataFrame.\n",
      "Try using .loc[row_indexer,col_indexer] = value instead\n",
      "\n",
      "See the caveats in the documentation: http://pandas.pydata.org/pandas-docs/stable/indexing.html#indexing-view-versus-copy\n",
      "  \"\"\"Entry point for launching an IPython kernel.\n"
     ]
    }
   ],
   "source": [
    "df_test_full['normal'] = clf.predict(X_test)"
   ]
  },
  {
   "cell_type": "code",
   "execution_count": 93,
   "metadata": {},
   "outputs": [
    {
     "data": {
      "text/html": [
       "<div>\n",
       "<style scoped>\n",
       "    .dataframe tbody tr th:only-of-type {\n",
       "        vertical-align: middle;\n",
       "    }\n",
       "\n",
       "    .dataframe tbody tr th {\n",
       "        vertical-align: top;\n",
       "    }\n",
       "\n",
       "    .dataframe thead th {\n",
       "        text-align: right;\n",
       "    }\n",
       "</style>\n",
       "<table border=\"1\" class=\"dataframe\">\n",
       "  <thead>\n",
       "    <tr style=\"text-align: right;\">\n",
       "      <th></th>\n",
       "      <th>acousticness</th>\n",
       "      <th>danceability</th>\n",
       "      <th>duration_ms</th>\n",
       "      <th>energy</th>\n",
       "      <th>id</th>\n",
       "      <th>instrumentalness</th>\n",
       "      <th>key</th>\n",
       "      <th>liveness</th>\n",
       "      <th>loudness</th>\n",
       "      <th>mode</th>\n",
       "      <th>...</th>\n",
       "      <th>tempo</th>\n",
       "      <th>time_signature</th>\n",
       "      <th>valence</th>\n",
       "      <th>added_at</th>\n",
       "      <th>song_title</th>\n",
       "      <th>artists</th>\n",
       "      <th>added_year</th>\n",
       "      <th>added_month</th>\n",
       "      <th>tempo_01</th>\n",
       "      <th>normal</th>\n",
       "    </tr>\n",
       "  </thead>\n",
       "  <tbody>\n",
       "    <tr>\n",
       "      <th>19</th>\n",
       "      <td>0.0243</td>\n",
       "      <td>0.694</td>\n",
       "      <td>194880</td>\n",
       "      <td>0.957</td>\n",
       "      <td>6DRGwsUFQrNerxRexK7KMB</td>\n",
       "      <td>0.000003</td>\n",
       "      <td>9</td>\n",
       "      <td>0.108</td>\n",
       "      <td>-3.115</td>\n",
       "      <td>0</td>\n",
       "      <td>...</td>\n",
       "      <td>106.002</td>\n",
       "      <td>4</td>\n",
       "      <td>0.505</td>\n",
       "      <td>2017-03-18 06:08:01</td>\n",
       "      <td>Hey Ma (with Pitbull &amp; J Balvin feat. Camila C...</td>\n",
       "      <td>Pitbull,J Balvin,Camila Cabello</td>\n",
       "      <td>2017</td>\n",
       "      <td>3</td>\n",
       "      <td>0.524495</td>\n",
       "      <td>-1</td>\n",
       "    </tr>\n",
       "  </tbody>\n",
       "</table>\n",
       "<p>1 rows × 21 columns</p>\n",
       "</div>"
      ],
      "text/plain": [
       "    acousticness  danceability  duration_ms  energy                      id  \\\n",
       "19        0.0243         0.694       194880   0.957  6DRGwsUFQrNerxRexK7KMB   \n",
       "\n",
       "    instrumentalness  key  liveness  loudness  mode  ...    tempo  \\\n",
       "19          0.000003    9     0.108    -3.115     0  ...  106.002   \n",
       "\n",
       "    time_signature  valence            added_at  \\\n",
       "19               4    0.505 2017-03-18 06:08:01   \n",
       "\n",
       "                                           song_title  \\\n",
       "19  Hey Ma (with Pitbull & J Balvin feat. Camila C...   \n",
       "\n",
       "                            artists added_year  added_month  tempo_01  normal  \n",
       "19  Pitbull,J Balvin,Camila Cabello       2017            3  0.524495      -1  \n",
       "\n",
       "[1 rows x 21 columns]"
      ]
     },
     "execution_count": 93,
     "metadata": {},
     "output_type": "execute_result"
    }
   ],
   "source": [
    "df_test_full[df_test_full['normal'] == -1]"
   ]
  },
  {
   "cell_type": "code",
   "execution_count": 95,
   "metadata": {},
   "outputs": [
    {
     "data": {
      "text/plain": [
       "(48, 21)"
      ]
     },
     "execution_count": 95,
     "metadata": {},
     "output_type": "execute_result"
    }
   ],
   "source": [
    "df_test_full.shape"
   ]
  },
  {
   "cell_type": "code",
   "execution_count": null,
   "metadata": {
    "collapsed": true
   },
   "outputs": [],
   "source": []
  }
 ],
 "metadata": {
  "kernelspec": {
   "display_name": "Python 3",
   "language": "python",
   "name": "python3"
  },
  "language_info": {
   "codemirror_mode": {
    "name": "ipython",
    "version": 3
   },
   "file_extension": ".py",
   "mimetype": "text/x-python",
   "name": "python",
   "nbconvert_exporter": "python",
   "pygments_lexer": "ipython3",
   "version": "3.6.2"
  }
 },
 "nbformat": 4,
 "nbformat_minor": 2
}
